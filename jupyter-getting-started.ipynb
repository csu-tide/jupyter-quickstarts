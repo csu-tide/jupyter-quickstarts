{
 "cells": [
  {
   "cell_type": "markdown",
   "id": "16c03a96-9879-4f5b-9ed0-9b3819780e12",
   "metadata": {},
   "source": [
    "# Jupyter Notebooks"
   ]
  },
  {
   "cell_type": "markdown",
   "id": "25f77a79-e5f0-4809-ab93-ad520686ca54",
   "metadata": {},
   "source": [
    "## ✔ Mission Objectives\n",
    "After you complete this notebook you will be able to:\n",
    "1. Understand Jupyter Notebooks and their value\n",
    "2. Use basic keyboard shortcuts\n",
    "3. Use markdown cells\n",
    "4. Use code cells\n",
    "5. Use magic commands\n",
    "6. Use Linux commands in code cells"
   ]
  },
  {
   "cell_type": "markdown",
   "id": "d1d80c36-a72d-40d3-aafe-e08a12d16678",
   "metadata": {
    "tags": []
   },
   "source": [
    "## 📙 Jupyter Notebooks"
   ]
  },
  {
   "cell_type": "markdown",
   "id": "90b303e5-ab9a-407d-9838-f0d8ebfdf1fb",
   "metadata": {},
   "source": [
    "### 🟠 Project Jupyter\n",
    "<a href=\"https://jupyter.org/\" target=\"_blank\">Project Jupyter</a> is an open-source project and set of popular tools used in Data Science and Artificial Intelligence (AI)/Machine Learning(ML). Jupyter started out as IPython (Interactive Python), thus the file extension of .ipynb, but eventually gained support for more languages. Jupyter's name comes from 3 of the popular languages in data science: Julia, Python and R. It is also a play on the spelling of the planet Jupiter, thus inspiring our astronautical theme for this intro. Jupiter happens to be the largest planet in our solar system, and so the name Jupyter draws the parallel to the large amounts of data used in training AI/ML models.\n",
    "\n",
    "Right now, if you've been following along, then you are simulaneously using three Jupyter tools:\n",
    "- Jupyter Hub\n",
    "- Jupyter Lab\n",
    "- Jupyer Notebooks\n",
    "\n",
    "Jupyter Hub enables multiple users to share a server for their notebooks. Jupyter Lab is the modern graphical user interface (GUI) allowing you to interact with your notebooks, files, programs and even a linux terminal. Jupyter Notebooks are where the magic really happens (no really, we'll get to some magic later on) allowing you to take notes, run code and display data anlyses all in one place."
   ]
  },
  {
   "cell_type": "markdown",
   "id": "0b6f9af8-1165-4dfd-afca-981951f1b53b",
   "metadata": {},
   "source": [
    "### 💲 The Value of Jupyter Notebooks\n",
    "\n",
    "Jupyter Notebooks are valuable because they make coding and data analysis approachable with an interactive GUI, they eliminate the need to install several tools, and they enable collaboration.\n",
    "\n",
    "Whether you are a student learning to code for the first time, an experienced data scientist or a researcher training AI/ML models, you will benefit from the rich interactivity of Jupyter Notebooks.\n",
    "\n",
    "Jupyter Notebooks allow you to take rich notes; write, execute, and debug code; and display data and reports -- all from one web-based application. Let's consider for a moment what software you would need to replace Jupyter Notebooks. You would need a notetaking app like Microsoft OneNote, Google Docs or Evernote. You would also need an Integrated Development Environment (IDE) such as Visual Studio, JetBrains or PyCharm. You would also need tools to interact with and analyze data such as Microsoft Excel, Google Sheets, or Minitab. At a minimum you would need to install and maintain 3 software tools, not to mention you would need to keep your work in sync across them all and need to constantly context switch between them.\n",
    "\n",
    "With the interactivity and consolidation of several tools, Jupyter Notebooks make it easy to collaborate with colleagues and teammates. All you need to do is share your notebook with them and they can instantly read your notes, run your code and interpret your analyses."
   ]
  },
  {
   "cell_type": "markdown",
   "id": "a6660cca-f626-42b6-9c07-7ce8c4d9dc69",
   "metadata": {},
   "source": [
    "## ⌨ Keyboard Shortcuts"
   ]
  },
  {
   "cell_type": "markdown",
   "id": "622ac92c-31bf-42c8-a998-bf4845a51dce",
   "metadata": {},
   "source": [
    "Jupyter Notebooks have several keyboard shortcuts for user convenience. In this section we will only discuss a few basic shortcuts.\n",
    "\n",
    "Before using a shortcut, you must be in command mode. If you see a colored border around a cell, that means you are in edit mode. To get to command mode press the `esc` key.\n",
    "\n",
    "Once you are in command mode, try experimenting with these commands in the corresponding cells below:"
   ]
  },
  {
   "cell_type": "markdown",
   "id": "6b1fb37f-8ca1-46ff-aa65-3589adebd5bc",
   "metadata": {},
   "source": [
    "### Selecting a cell\n",
    "- `↑` -- select cell above\n",
    "- `↓` -- select cell below"
   ]
  },
  {
   "cell_type": "markdown",
   "id": "5b9cf705-5093-4296-ad41-25d3b89130ab",
   "metadata": {},
   "source": [
    "### Running cells\n",
    "- `Shift + Enter`"
   ]
  },
  {
   "cell_type": "code",
   "execution_count": null,
   "id": "6e048b76-b17e-4eb4-a51e-bd89554185e6",
   "metadata": {},
   "outputs": [],
   "source": [
    "print(\"Run me to see what happens!\")"
   ]
  },
  {
   "cell_type": "markdown",
   "id": "f647ea6f-20ac-402d-880d-735168a07e48",
   "metadata": {},
   "source": [
    "### Inserting cells\n",
    "- `a` -- insert cell above selected cell\n",
    "- `b` -- insert cell below selected cell"
   ]
  },
  {
   "cell_type": "markdown",
   "id": "8199f559-8938-4b07-be23-b2db0a1630e0",
   "metadata": {},
   "source": [
    "Insert a cell above me and below me!"
   ]
  },
  {
   "cell_type": "markdown",
   "id": "b59d698c-0c1e-4256-ade3-117fe2e69d42",
   "metadata": {},
   "source": [
    "### Deleting a cell\n",
    "- `dd`"
   ]
  },
  {
   "cell_type": "markdown",
   "id": "6f7f3bd8-f7b0-44cc-aecf-f6e2bb52cc46",
   "metadata": {},
   "source": [
    "Delete me!"
   ]
  },
  {
   "cell_type": "markdown",
   "id": "3304e93b-a885-46d3-b11f-710924c3096e",
   "metadata": {},
   "source": [
    "### Changing a cell type\n",
    "- `m` -- Change to markdown cell\n",
    "- `y` -- Change to code cell"
   ]
  },
  {
   "cell_type": "code",
   "execution_count": null,
   "id": "bf1c74b8-9e71-46ef-b791-c3b5f95ff17e",
   "metadata": {},
   "outputs": [],
   "source": [
    "# Change me to a markdown cell"
   ]
  },
  {
   "cell_type": "raw",
   "id": "7403554b-388c-49d3-9478-2bbedb70aa20",
   "metadata": {},
   "source": [
    "print(\"Change me to a code cell. Extra credit if you run me after changing me.\")"
   ]
  },
  {
   "cell_type": "markdown",
   "id": "925221a7-de3d-40d6-8ad4-a56975b8d089",
   "metadata": {},
   "source": [
    "### 📃 Full List of Shortcuts\n",
    "If you want a full list of keyboard shortcuts, use this shortcut: `ctrl + ,` then use the search bar for `shortcuts`."
   ]
  },
  {
   "cell_type": "markdown",
   "id": "7bf9cba9-b8e5-48fa-be5e-c4dcd15ba6ab",
   "metadata": {},
   "source": [
    "## 🔽 Markdown Cells"
   ]
  },
  {
   "cell_type": "markdown",
   "id": "f4a46e01-072f-4052-b434-d79b37a4645a",
   "metadata": {},
   "source": [
    "<a href=\"https://www.markdownguide.org/\" target=\"_blank\">Markdown</a> is a simple markup language for formatting documents. The name \"Markdown\" is a playful jab at more verbose markup languages (HTML, XML) hinting at Markdown's comparatively simple syntax. Markdown can also be converted into HTML for rendering on the web, saving users a lot of time (and keystrokes).\n",
    "\n",
    "Jupyter Notebooks allow us to use Markdown cells to render formatted text right in our notebooks, in fact all of the notes here are written in and rendered in Markdown (though technically, they are rendered in the browser via HTML). \n",
    "\n",
    "To see the Markdown syntax used in any rendered markdown cell (like this one) just double click it, or select it and hit `enter`.\n",
    "\n",
    "You can do a lot of things with Markdown syntax, but we will focus on just a few: formatting text, images, hyperlinks, lists, and code."
   ]
  },
  {
   "cell_type": "markdown",
   "id": "06f3c354-2533-47c9-bb43-3eeb1ba171b7",
   "metadata": {},
   "source": [
    "### Formatting Text"
   ]
  },
  {
   "cell_type": "markdown",
   "id": "90077080-d09f-4374-892e-31f26769311a",
   "metadata": {},
   "source": [
    "- Headers\n",
    "    - Syntax: Starting a new line with: `#` = H1, `##` = H2, `###` = H3 ... `######` = H6\n",
    "    - Sample Result: \n",
    "#### Heading 4\n",
    "\n",
    "- Bold\n",
    "    - Syntax: `**Bold text**`\n",
    "    - Sample Result: **Bold text**\n",
    "- Italics\n",
    "    - Syntax: `*Italic text*`\n",
    "    - Sample Result: *Italic text*"
   ]
  },
  {
   "cell_type": "markdown",
   "id": "45904348-390d-4063-b35e-1e0a1a5507b1",
   "metadata": {},
   "source": [
    "### Hyperlinks\n",
    "\n",
    "Syntax: `[Hyperlink Text](https://url-to-some-site.com)`\n",
    "\n",
    "Sample Result: [Research and Cyberinfrastructure](https://it.sdsu.edu/research)"
   ]
  },
  {
   "cell_type": "markdown",
   "id": "38d64dbc-3143-45aa-8fce-5cd11ed102a0",
   "metadata": {},
   "source": [
    "### Images\n",
    "Syntax: `![Alt text](url/to/image.png)`\n",
    "\n",
    "Sample Result: \n",
    "\n",
    "![TIE Figher](../images/tie.png)"
   ]
  },
  {
   "cell_type": "markdown",
   "id": "de28aeb2-06c4-46ad-95d6-7abf15ae2106",
   "metadata": {},
   "source": [
    "### Lists\n",
    "Syntax: \n",
    "```text\n",
    "- First item\n",
    "- Second item\n",
    "  - Sub-Item (Sub-items need two preceeding spaces, or tab)\n",
    "```\n",
    "Sample Result:\n",
    "- First Item\n",
    "- Second Item\n",
    "  - Sub-Item"
   ]
  },
  {
   "cell_type": "markdown",
   "id": "e3c868cf-c4b0-4eff-a3ad-754fa12fcc54",
   "metadata": {},
   "source": [
    "### Code\n",
    "- Single line\n",
    "  - Syntax: ``` `print(\"Hello World!\")` ``` (Surround code with single back-tick)\n",
    "  - Sample Result: `print(\"Hello World!\")`\n",
    "- Multi-line\n",
    "  - Syntax: (Triple back-tick surrounding code)\n",
    "  \n",
    "  ` ```my_string = \"Hello World\" `\n",
    "  \n",
    "  ` print(my_string)``` `\n",
    "  - Sample Result:\n",
    "```python\n",
    "my_string = \"Hello World!\"\n",
    "print(my_string)\n",
    "```\n"
   ]
  },
  {
   "cell_type": "markdown",
   "id": "0c69c2c6-d672-45a8-9e25-ae425ef391e4",
   "metadata": {},
   "source": [
    "### Markdown Cheatsheet\n",
    "Curious to learn more or need a quick refresher? Check out the <a href=\"https://www.markdownguide.org/cheat-sheet/\" target=\"_blank\">Markdown Cheatsheet</a>!"
   ]
  },
  {
   "cell_type": "markdown",
   "id": "ffb3b81a-d661-4d48-8676-f76c9219fa7e",
   "metadata": {},
   "source": [
    "## 👩‍💻👨‍💻 Code Cells"
   ]
  },
  {
   "cell_type": "markdown",
   "id": "f69ff79a-862f-4a5f-8916-d5204d64bde1",
   "metadata": {},
   "source": [
    "Jupyter Notebooks allow us to run code on top of a language kernel. For example, you can find in the top right corner that this notebook is beinng executed with a Python 3 kernel. You can click the drop down to see further options (though don't change it for this notebook, otherwise things won't work quite right).\n",
    "\n",
    "Code cells are the default cell type when creating a new cell. They can be distinguished from other cell types as they have square brackets next to them. If the square brackets are empty, that menas the cell has not been run. If the brackets contain a number, then that indicates in what order the code cells have been run.\n",
    "\n",
    "As an example, below is a code cell with a simple python print statement. This cell has been run, and it generated output which can be observed directly below it:"
   ]
  },
  {
   "cell_type": "code",
   "execution_count": 1,
   "id": "09ac49c0-fdf7-49c3-9a59-4b01ace93557",
   "metadata": {
    "tags": []
   },
   "outputs": [
    {
     "name": "stdout",
     "output_type": "stream",
     "text": [
      "Hello and welcome to the Instructional Cluster intro!\n"
     ]
    }
   ],
   "source": [
    "print(\"Hello and welcome to the Instructional Cluster intro!\")"
   ]
  },
  {
   "cell_type": "markdown",
   "id": "320c6814-5857-479c-aa42-19e318264a67",
   "metadata": {},
   "source": [
    "Jupyter Notebooks allow variables and function definitions to be shared across code cells. For example, we can define a variable in one cell and then use that variable in another cell:"
   ]
  },
  {
   "cell_type": "code",
   "execution_count": 11,
   "id": "756d2480-1469-49dc-ad8e-d82b3e59bd8b",
   "metadata": {
    "tags": []
   },
   "outputs": [],
   "source": [
    "my_string = \"Hello, world!\""
   ]
  },
  {
   "cell_type": "code",
   "execution_count": 12,
   "id": "3e258abf-9f99-4261-ba4d-a8840c09ad4f",
   "metadata": {
    "tags": []
   },
   "outputs": [
    {
     "name": "stdout",
     "output_type": "stream",
     "text": [
      "Hello, world!\n"
     ]
    }
   ],
   "source": [
    "print(my_string)"
   ]
  },
  {
   "cell_type": "markdown",
   "id": "084261b0-24ea-4606-baae-34ba25459353",
   "metadata": {},
   "source": [
    "If your last command in a code cell produces output, then a Jupyter Notebook will display the output without you needing to call the `print()` function.\n",
    "\n",
    "So the above cell could be re-written like so:"
   ]
  },
  {
   "cell_type": "code",
   "execution_count": 13,
   "id": "130fe9b5-2813-4ab6-9c49-894e9f53b7be",
   "metadata": {
    "tags": []
   },
   "outputs": [
    {
     "data": {
      "text/plain": [
       "'Hello, world!'"
      ]
     },
     "execution_count": 13,
     "metadata": {},
     "output_type": "execute_result"
    }
   ],
   "source": [
    "my_string"
   ]
  },
  {
   "cell_type": "markdown",
   "id": "5a8fefa4-d777-4089-aedd-55a84dc00cd4",
   "metadata": {},
   "source": [
    "### 🔢 Code Cell Execution Order\n",
    "The numbers next to the code cells can be quite important, as you can run cells in any order, which can affect your output.\n",
    "\n",
    "For example, below we have two cells. In the first we define a variable, and in the second we reference that same variable. If you run these cells out of order (as we have done for you), Python will complain that the variable has not been defined:"
   ]
  },
  {
   "cell_type": "code",
   "execution_count": 3,
   "id": "26f90cfe-6fad-4c0f-9006-b1502413ec28",
   "metadata": {
    "tags": []
   },
   "outputs": [],
   "source": [
    "my_string = \"Jupyter Notebooks are so cool!\""
   ]
  },
  {
   "cell_type": "code",
   "execution_count": 2,
   "id": "17420209-1769-4809-a471-a70c58aef581",
   "metadata": {
    "tags": []
   },
   "outputs": [
    {
     "ename": "NameError",
     "evalue": "name 'my_string' is not defined",
     "output_type": "error",
     "traceback": [
      "\u001b[0;31m---------------------------------------------------------------------------\u001b[0m",
      "\u001b[0;31mNameError\u001b[0m                                 Traceback (most recent call last)",
      "Cell \u001b[0;32mIn[2], line 1\u001b[0m\n\u001b[0;32m----> 1\u001b[0m \u001b[38;5;28mprint\u001b[39m(\u001b[43mmy_string\u001b[49m)\n",
      "\u001b[0;31mNameError\u001b[0m: name 'my_string' is not defined"
     ]
    }
   ],
   "source": [
    "print(my_string)"
   ]
  },
  {
   "cell_type": "markdown",
   "id": "d090b908-0898-4fce-b8b0-230b6940aefc",
   "metadata": {},
   "source": [
    "If something like this happens to you, then you have a few options:\n",
    "1. Assuming the code cell ordering is correct:\n",
    "    1. Kernel > Restart Kernel and Run up to seleceted cell\n",
    "        - ![Restart Kernel and Run up to seleceted cell](../images/kernel1.png)\n",
    "2. If the cell ordering isn't right then:\n",
    "    1. Kernel > Restart Kernel\n",
    "        - ![Restart Kernel](../images/kernel2.png)\n",
    "    2. Manually run each cell until you discover the issue\n",
    "    3. Correct the issue"
   ]
  },
  {
   "cell_type": "markdown",
   "id": "03fce056-738e-47f6-84d7-1d405db4ed3f",
   "metadata": {},
   "source": [
    "### 📃 Multi-line Code Cells\n",
    "You can also have several lines inside a code cell, just hit `enter` to add a new line to the cell.\n",
    "\n",
    "For example:"
   ]
  },
  {
   "cell_type": "code",
   "execution_count": 5,
   "id": "52922e69-4462-4c4c-b30b-d5ba3cc056d7",
   "metadata": {
    "tags": []
   },
   "outputs": [
    {
     "name": "stdout",
     "output_type": "stream",
     "text": [
      "Ready to see some magic? It's coming up next!\n"
     ]
    }
   ],
   "source": [
    "def print_message(msg):\n",
    "    print(msg)\n",
    "    \n",
    "print_message(\"Ready to see some magic? It's coming up next!\")"
   ]
  },
  {
   "cell_type": "markdown",
   "id": "1bc704c6-c76f-4ec2-8d12-68b0c94502e6",
   "metadata": {
    "tags": []
   },
   "source": [
    "## 🧙‍♂️ Magic Commands"
   ]
  },
  {
   "cell_type": "markdown",
   "id": "670f20d1-2e4e-43f9-92ba-d8ec1b51fae8",
   "metadata": {},
   "source": [
    "Jupyter Notebooks have \"magic commands\" that can be run in code cells and offer convenience for common, repeatable notebook actions.\n",
    "\n",
    "Magic commands are split into two main categories, line commands and cell commands. \n",
    "\n",
    "A line command has a single percent sign `%` and only affects the line it is on.\n",
    "\n",
    "A cell command has a double percent sign `%%` and affects all of the lines following it."
   ]
  },
  {
   "cell_type": "markdown",
   "id": "cc8d91d5-a532-4069-a44d-e50a713f8996",
   "metadata": {},
   "source": [
    "As an example of using magic commands, let us consider the need to time our code.\n",
    "\n",
    "If one were to do this in their programming language of choice it might go something like this:\n",
    "1. Store the current time in a variable\n",
    "2. Execute the code to be timed\n",
    "3. Store the current time in a second variable\n",
    "4. Calculate the difference in elapsed time\n",
    "\n",
    "Jupyter Notebooks instead offer the line magic command `%time` and the corresponding cell magic command `%%time`.\n",
    "\n",
    "For example, if we wanted to time how long it takes to print one specific message in Python we could do so like this:"
   ]
  },
  {
   "cell_type": "code",
   "execution_count": 25,
   "id": "fa4ae9c6-cd57-44c4-a458-9973e6d99cfc",
   "metadata": {
    "tags": []
   },
   "outputs": [
    {
     "name": "stdout",
     "output_type": "stream",
     "text": [
      "This is how long it takes to print this message:\n",
      "CPU times: user 31 µs, sys: 3 µs, total: 34 µs\n",
      "Wall time: 33.6 µs\n",
      "However, this message was not timed.\n"
     ]
    }
   ],
   "source": [
    "%time print(\"This is how long it takes to print this message:\")\n",
    "\n",
    "print(\"However, this message was not timed.\")"
   ]
  },
  {
   "cell_type": "markdown",
   "id": "73cdb20f-c7ed-487b-a4fa-cb668fc0655e",
   "metadata": {},
   "source": [
    "If we instead wanted to time both messages, we could use `%%time`:"
   ]
  },
  {
   "cell_type": "code",
   "execution_count": 27,
   "id": "17185ae1-1a2e-46d9-905a-d0bd0cc2ea94",
   "metadata": {
    "tags": []
   },
   "outputs": [
    {
     "name": "stdout",
     "output_type": "stream",
     "text": [
      "This message is being timed.\n",
      "And so is this one!\n",
      "CPU times: user 46 µs, sys: 4 µs, total: 50 µs\n",
      "Wall time: 49.4 µs\n"
     ]
    }
   ],
   "source": [
    "%%time\n",
    "print(\"This message is being timed.\")\n",
    "print(\"And so is this one!\")"
   ]
  },
  {
   "cell_type": "markdown",
   "id": "9fee5955-6458-4891-b055-08982edc9f73",
   "metadata": {},
   "source": [
    "For a full list of magic commands use `%lsmagic`:"
   ]
  },
  {
   "cell_type": "code",
   "execution_count": 26,
   "id": "0dc03b22-ea59-46f0-9545-ec9b9515d028",
   "metadata": {
    "tags": []
   },
   "outputs": [
    {
     "data": {
      "application/json": {
       "cell": {
        "!": "OSMagics",
        "HTML": "Other",
        "SVG": "Other",
        "bash": "Other",
        "capture": "ExecutionMagics",
        "debug": "ExecutionMagics",
        "file": "Other",
        "html": "DisplayMagics",
        "javascript": "DisplayMagics",
        "js": "DisplayMagics",
        "latex": "DisplayMagics",
        "markdown": "DisplayMagics",
        "perl": "Other",
        "prun": "ExecutionMagics",
        "pypy": "Other",
        "python": "Other",
        "python2": "Other",
        "python3": "Other",
        "ruby": "Other",
        "script": "ScriptMagics",
        "sh": "Other",
        "svg": "DisplayMagics",
        "sx": "OSMagics",
        "system": "OSMagics",
        "time": "ExecutionMagics",
        "timeit": "ExecutionMagics",
        "writefile": "OSMagics"
       },
       "line": {
        "alias": "OSMagics",
        "alias_magic": "BasicMagics",
        "autoawait": "AsyncMagics",
        "autocall": "AutoMagics",
        "automagic": "AutoMagics",
        "autosave": "KernelMagics",
        "bookmark": "OSMagics",
        "cat": "Other",
        "cd": "OSMagics",
        "clear": "KernelMagics",
        "colors": "BasicMagics",
        "conda": "PackagingMagics",
        "config": "ConfigMagics",
        "connect_info": "KernelMagics",
        "cp": "Other",
        "debug": "ExecutionMagics",
        "dhist": "OSMagics",
        "dirs": "OSMagics",
        "doctest_mode": "BasicMagics",
        "ed": "Other",
        "edit": "KernelMagics",
        "env": "OSMagics",
        "gui": "BasicMagics",
        "hist": "Other",
        "history": "HistoryMagics",
        "killbgscripts": "ScriptMagics",
        "ldir": "Other",
        "less": "KernelMagics",
        "lf": "Other",
        "lk": "Other",
        "ll": "Other",
        "load": "CodeMagics",
        "load_ext": "ExtensionMagics",
        "loadpy": "CodeMagics",
        "logoff": "LoggingMagics",
        "logon": "LoggingMagics",
        "logstart": "LoggingMagics",
        "logstate": "LoggingMagics",
        "logstop": "LoggingMagics",
        "ls": "Other",
        "lsmagic": "BasicMagics",
        "lx": "Other",
        "macro": "ExecutionMagics",
        "magic": "BasicMagics",
        "man": "KernelMagics",
        "matplotlib": "PylabMagics",
        "mkdir": "Other",
        "more": "KernelMagics",
        "mv": "Other",
        "notebook": "BasicMagics",
        "page": "BasicMagics",
        "pastebin": "CodeMagics",
        "pdb": "ExecutionMagics",
        "pdef": "NamespaceMagics",
        "pdoc": "NamespaceMagics",
        "pfile": "NamespaceMagics",
        "pinfo": "NamespaceMagics",
        "pinfo2": "NamespaceMagics",
        "pip": "PackagingMagics",
        "popd": "OSMagics",
        "pprint": "BasicMagics",
        "precision": "BasicMagics",
        "prun": "ExecutionMagics",
        "psearch": "NamespaceMagics",
        "psource": "NamespaceMagics",
        "pushd": "OSMagics",
        "pwd": "OSMagics",
        "pycat": "OSMagics",
        "pylab": "PylabMagics",
        "qtconsole": "KernelMagics",
        "quickref": "BasicMagics",
        "recall": "HistoryMagics",
        "rehashx": "OSMagics",
        "reload_ext": "ExtensionMagics",
        "rep": "Other",
        "rerun": "HistoryMagics",
        "reset": "NamespaceMagics",
        "reset_selective": "NamespaceMagics",
        "rm": "Other",
        "rmdir": "Other",
        "run": "ExecutionMagics",
        "save": "CodeMagics",
        "sc": "OSMagics",
        "set_env": "OSMagics",
        "store": "StoreMagics",
        "sx": "OSMagics",
        "system": "OSMagics",
        "tb": "ExecutionMagics",
        "time": "ExecutionMagics",
        "timeit": "ExecutionMagics",
        "unalias": "OSMagics",
        "unload_ext": "ExtensionMagics",
        "who": "NamespaceMagics",
        "who_ls": "NamespaceMagics",
        "whos": "NamespaceMagics",
        "xdel": "NamespaceMagics",
        "xmode": "BasicMagics"
       }
      },
      "text/plain": [
       "Available line magics:\n",
       "%alias  %alias_magic  %autoawait  %autocall  %automagic  %autosave  %bookmark  %cat  %cd  %clear  %colors  %conda  %config  %connect_info  %cp  %debug  %dhist  %dirs  %doctest_mode  %ed  %edit  %env  %gui  %hist  %history  %killbgscripts  %ldir  %less  %lf  %lk  %ll  %load  %load_ext  %loadpy  %logoff  %logon  %logstart  %logstate  %logstop  %ls  %lsmagic  %lx  %macro  %magic  %man  %matplotlib  %mkdir  %more  %mv  %notebook  %page  %pastebin  %pdb  %pdef  %pdoc  %pfile  %pinfo  %pinfo2  %pip  %popd  %pprint  %precision  %prun  %psearch  %psource  %pushd  %pwd  %pycat  %pylab  %qtconsole  %quickref  %recall  %rehashx  %reload_ext  %rep  %rerun  %reset  %reset_selective  %rm  %rmdir  %run  %save  %sc  %set_env  %store  %sx  %system  %tb  %time  %timeit  %unalias  %unload_ext  %who  %who_ls  %whos  %xdel  %xmode\n",
       "\n",
       "Available cell magics:\n",
       "%%!  %%HTML  %%SVG  %%bash  %%capture  %%debug  %%file  %%html  %%javascript  %%js  %%latex  %%markdown  %%perl  %%prun  %%pypy  %%python  %%python2  %%python3  %%ruby  %%script  %%sh  %%svg  %%sx  %%system  %%time  %%timeit  %%writefile\n",
       "\n",
       "Automagic is ON, % prefix IS NOT needed for line magics."
      ]
     },
     "execution_count": 26,
     "metadata": {},
     "output_type": "execute_result"
    }
   ],
   "source": [
    "%lsmagic"
   ]
  },
  {
   "cell_type": "markdown",
   "id": "d5e6031d-f29c-4066-a21b-24b5f378f6af",
   "metadata": {},
   "source": [
    "## 🐧Linux Commands"
   ]
  },
  {
   "cell_type": "markdown",
   "id": "3c24c8b8-e989-41c3-80cd-802e58a2a150",
   "metadata": {},
   "source": [
    "Jupyter Notebooks also give you access to the power of the Linux command-line inside of code cells.\n",
    "\n",
    "To run a Linux command, use the exclamation point character `!` and then the Linux command you'd like to run.\n",
    "\n",
    "For instance, we can see the currently logged-in user with `!whoami`:"
   ]
  },
  {
   "cell_type": "code",
   "execution_count": 2,
   "id": "ad82d245-d186-4493-adbc-ccdfc8f8f992",
   "metadata": {
    "tags": []
   },
   "outputs": [
    {
     "name": "stdout",
     "output_type": "stream",
     "text": [
      "jovyan\n"
     ]
    }
   ],
   "source": [
    "!whoami"
   ]
  },
  {
   "cell_type": "markdown",
   "id": "94c5ecec-2868-44e9-bce8-0f29b01ec244",
   "metadata": {},
   "source": [
    "*Note*: Jupyter automatically creates the 'jovyan' user. Jovyan is a play on \"Jovian\", an astronomical term meaning Jupiter-like."
   ]
  },
  {
   "cell_type": "markdown",
   "id": "26daaa9d-e41d-4c30-8920-b234b6a31299",
   "metadata": {},
   "source": [
    "We can also see the current directory with `!pwd`:"
   ]
  },
  {
   "cell_type": "code",
   "execution_count": 10,
   "id": "4f15b0a9-e963-44df-ada2-538a58821a15",
   "metadata": {
    "tags": []
   },
   "outputs": [
    {
     "name": "stdout",
     "output_type": "stream",
     "text": [
      "/home/jovyan/ic-intro/notebooks\n"
     ]
    }
   ],
   "source": [
    "!pwd"
   ]
  },
  {
   "cell_type": "markdown",
   "id": "d8d1d7bf-be27-47a7-b039-71f439c5acd8",
   "metadata": {},
   "source": [
    "We can also store the results of these commands in variables and then access them:"
   ]
  },
  {
   "cell_type": "code",
   "execution_count": 34,
   "id": "0b6e57ce-5f82-4cf2-9fd9-c2dce54ab6f0",
   "metadata": {
    "tags": []
   },
   "outputs": [
    {
     "name": "stdout",
     "output_type": "stream",
     "text": [
      "The current user is jovyan.\n"
     ]
    }
   ],
   "source": [
    "whoami_results = !whoami\n",
    "user = whoami_results[0]\n",
    "\n",
    "print(f\"The current user is {user}.\")"
   ]
  }
 ],
 "metadata": {
  "kernelspec": {
   "display_name": "Python 3 (ipykernel)",
   "language": "python",
   "name": "python3"
  },
  "language_info": {
   "codemirror_mode": {
    "name": "ipython",
    "version": 3
   },
   "file_extension": ".py",
   "mimetype": "text/x-python",
   "name": "python",
   "nbconvert_exporter": "python",
   "pygments_lexer": "ipython3",
   "version": "3.11.5"
  }
 },
 "nbformat": 4,
 "nbformat_minor": 5
}
