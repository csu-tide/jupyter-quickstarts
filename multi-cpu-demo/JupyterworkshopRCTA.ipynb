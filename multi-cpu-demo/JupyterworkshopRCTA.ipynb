{
 "cells": [
  {
   "cell_type": "markdown",
   "id": "a83f8a57-2794-444f-9c3e-11810421cfec",
   "metadata": {},
   "source": [
    "<h3>This is a cell. This cell is markdown.... </br>You can use it for notes or any section </br>where you want to explain a concept or code.</h3>"
   ]
  },
  {
   "cell_type": "code",
   "execution_count": 1,
   "id": "c230fd8a-a60e-45af-9524-6dc966aeb4b3",
   "metadata": {},
   "outputs": [
    {
     "name": "stdout",
     "output_type": "stream",
     "text": [
      "Hello!\n"
     ]
    }
   ],
   "source": [
    "#This cell contains Python code\n",
    "# this type of line with the hashtag is a comment. It does not execute\n",
    "#click the play button above to run the cell\n",
    "#What do you see below the cell?\n",
    "\n",
    "#print to output\n",
    "print(\"Hello!\")"
   ]
  },
  {
   "cell_type": "markdown",
   "id": "9b6de2a4-a3f4-4694-bd36-7c944c1c6a17",
   "metadata": {},
   "source": [
    "<h3>You can do mathematical functions.</h3>"
   ]
  },
  {
   "cell_type": "code",
   "execution_count": 2,
   "id": "b9f03924-176c-42d2-857f-e27a5ef67174",
   "metadata": {},
   "outputs": [
    {
     "name": "stdout",
     "output_type": "stream",
     "text": [
      "the value of x is: 2\n"
     ]
    }
   ],
   "source": [
    "#You can do math in Python\n",
    "#What do you see below the cell?\n",
    "\n",
    "#add 1 + 1 and store the value in a varaible called x\n",
    "x = 1 + 1\n",
    "\n",
    "#print to output\n",
    "print(\"the value of x is:\", x)"
   ]
  },
  {
   "cell_type": "markdown",
   "id": "7a6ff1df-733d-4c64-84b7-49f4121f9fb1",
   "metadata": {},
   "source": [
    "<h3>Sometimes we want to run things that takes long even for a computer. We can break up the job into parts and run them in parallel</h3>  "
   ]
  },
  {
   "cell_type": "code",
   "execution_count": 3,
   "id": "4ea3b556-949b-41a9-93e0-4281d4b07380",
   "metadata": {},
   "outputs": [
    {
     "name": "stdout",
     "output_type": "stream",
     "text": [
      "Greetings from the main thread.\n",
      "start time:  1757700687.0696933\n",
      "Greetings from thread 1\n",
      "Greetings from thread 2\n",
      "Greetings from thread 3\n",
      "Greetings from thread 4\n",
      "It's the main thread again!\n",
      "Threads 1-4 have finished executing.\n",
      "The time it took to run is 0.0011260509490966797 seconds\n"
     ]
    }
   ],
   "source": [
    "import threading\n",
    "import time\n",
    "\n",
    "#functions\n",
    "def part1():\n",
    "    print(\"Greetings from thread 1\")\n",
    "\n",
    "def part2():\n",
    "    print(\"Greetings from thread 2\")\n",
    "\n",
    "def part3():\n",
    "    print(\"Greetings from thread 3\")\n",
    "\n",
    "def part4():\n",
    "    print(\"Greetings from thread 4\")\n",
    "\n",
    "\n",
    "\n",
    "#print a statement at the beginning\n",
    "print(\"Greetings from the main thread.\")\n",
    "#we are going to start a clock\n",
    "start_time = time.time()\n",
    "#print the start time\n",
    "print(\"start time: \", start_time)\n",
    "\n",
    "#set up the thread, give it a target of part 1 and no arguments\n",
    "thread1 = threading.Thread(target = part1, args = ())\n",
    "#set up the thread, give it a target of part 2 and no arguments\n",
    "thread2 = threading.Thread(target = part2, args = ())\n",
    "#set up the thread, give it a target of part 3 and no arguments\n",
    "thread3 = threading.Thread(target = part3, args = ())\n",
    "#set up the thread, give it a target of part 4 and no arguments\n",
    "thread4 = threading.Thread(target = part4, args = ()) \n",
    "\n",
    "# Starting the 4 threads\n",
    "thread1.start() \n",
    "thread2.start() \n",
    "thread3.start() \n",
    "thread4.start() \n",
    "\n",
    "#ending the 4 threads\n",
    "thread1.join()\n",
    "thread2.join()\n",
    "thread3.join()\n",
    "thread4.join()\n",
    "\n",
    "#Print at the end and show the time it took to run\n",
    "print(\"It's the main thread again!\")\n",
    "print(\"Threads 1-4 have finished executing.\")\n",
    "print(\"The time it took to run is\", time.time() - start_time, \"seconds\")"
   ]
  },
  {
   "cell_type": "markdown",
   "id": "ba0b8c04-2ff1-42e6-97b1-b81285b45e35",
   "metadata": {},
   "source": [
    "<h3>The above example ran almost instantly. We didn't need to break it up into parts. Let's try something longer and time it.</h3>"
   ]
  },
  {
   "cell_type": "code",
   "execution_count": 6,
   "id": "4c851b50-1aae-425d-b636-7f32a043c17e",
   "metadata": {},
   "outputs": [
    {
     "name": "stdout",
     "output_type": "stream",
     "text": [
      "start time:  1757700775.0771496\n",
      "The time it took to run is 54.359803199768066 seconds\n"
     ]
    }
   ],
   "source": [
    "import time\n",
    "import math\n",
    "\n",
    "# a function with some math functions in a loop\n",
    "def large_loop(limit):\n",
    "    a = 1\n",
    "    for i in range(limit): #note the nested indentations of both the function and the loop\n",
    "        a = math.factorial(16)\n",
    "        a = math.cbrt(139045)\n",
    "        a = math.cos(float(i))\n",
    "        a = math.cos(46.893)\n",
    "        a = math.gamma(16.2)\n",
    "\n",
    "#will run for 2^27 times\n",
    "loop_limit = 2**27\n",
    "\n",
    "#start the clock\n",
    "start_time = time.time()\n",
    "print(\"start time: \", start_time)\n",
    "\n",
    "#call the function with the loop\n",
    "large_loop(loop_limit) #pass the loop limit to the function\n",
    "\n",
    "#stop the clock and print the time\n",
    "finish_time = time.time() - start_time\n",
    "print(\"The time it took to run is\", finish_time, \"seconds\")"
   ]
  },
  {
   "cell_type": "markdown",
   "id": "6365a551-dfb6-49cd-bd2b-18e5cb8b3e79",
   "metadata": {},
   "source": [
    "<h3>How long did that run? Let's now break it up into parts and run it for 8 times more iterations. If it was run like above it should take 8 times longer to run. </br></br>We will make multiple processes that will target multiple CPUs. It will require multiple CPUs for it to be effective.</h3> "
   ]
  },
  {
   "cell_type": "code",
   "execution_count": 7,
   "id": "2a9df9f2-7f96-4bf7-92a2-a240ea8351be",
   "metadata": {},
   "outputs": [
    {
     "name": "stdout",
     "output_type": "stream",
     "text": [
      "Greetings from the main process.\n",
      "Greetings from process 1, starting at: Greetings from process 2, starting at:   335544320Greetings from process 3, starting at: \n",
      " 67108864\n",
      "Greetings from process 4, starting at:  100663296\n",
      "\n",
      "It's the main process again!\n",
      "The time it took to execute is 14.759559154510498 seconds\n",
      "Processes 1-4 have finished executing.\n"
     ]
    }
   ],
   "source": [
    "import multiprocessing\n",
    "import time\n",
    "import math\n",
    "\n",
    "\n",
    "#functions with different math functions to stress the CPU(s)\n",
    "def part1(start, stop):\n",
    "    print(\"Greetings from process 1, starting at: \" , start)\n",
    "    a = 1\n",
    "    for i in range(start, stop):\n",
    "        a = math.factorial(16)\n",
    "        a = math.cbrt(139045)\n",
    "        a = math.cos(float(i))\n",
    "        a = math.cos(46.893)\n",
    "        a = math.gamma(16.2)\n",
    "\n",
    "\n",
    "def part2(start, stop):\n",
    "    print(\"Greetings from process 2, starting at: \" , start)\n",
    "    b = 1\n",
    "    for i in range(start, stop):\n",
    "        b = math.factorial(16)\n",
    "        b = math.cbrt(139045)\n",
    "        b = math.cos(float(i))\n",
    "        b = math.cos(46.893)\n",
    "        b = math.gamma(16.2)\n",
    "\n",
    "\n",
    "def part3(start, stop):\n",
    "    print(\"Greetings from process 3, starting at: \" , start)\n",
    "    c = 1\n",
    "    for i in range(start, stop):\n",
    "        c = math.factorial(16)\n",
    "        c = math.cbrt(139045)\n",
    "        c = math.cos(float(i))\n",
    "        c = math.cos(46.893)\n",
    "        c = math.gamma(16.2)\n",
    "\n",
    "\n",
    "def part4(start, stop):\n",
    "    print(\"Greetings from process 4, starting at: \" , start)\n",
    "    d = 1\n",
    "    for i in range(start, stop):\n",
    "        d = math.factorial(16)\n",
    "        d = math.cbrt(139045)\n",
    "        d = math.cos(float(i))\n",
    "        d = math.cos(46.893)\n",
    "        d = math.gamma(16.2)\n",
    "\n",
    "\n",
    "\n",
    "# set the limit of the loop\n",
    "limit = 2**27\n",
    "\n",
    "#break up the start positions into 4 parts\n",
    "start1 = 0\n",
    "start2 = int(limit / 4)\n",
    "start3 = int(limit / 2)\n",
    "start4 = int(3 * limit / 4)\n",
    "\n",
    "\n",
    "#print a greeting and start the clock\n",
    "print(\"Greetings from the main process.\")\n",
    "start_time = time.time() \n",
    "\n",
    "#set up all 4 processes\n",
    "process1 = multiprocessing.Process(target = part1, args = (start1, start2))\n",
    "process2 = multiprocessing.Process(target = part2, args = (start2, start3))  \n",
    "process3 = multiprocessing.Process(target = part3, args = (start3, start4))\n",
    "process4 = multiprocessing.Process(target = part4, args = (start4, limit)) \n",
    "\n",
    "#starting the processes\n",
    "process1.start() \n",
    "process2.start() \n",
    "process3.start() \n",
    "process4.start() \n",
    "\n",
    "#end all the processes\n",
    "process1.join()\n",
    "process2.join()\n",
    "process3.join()\n",
    "process4.join()\n",
    "\n",
    "#print a greeting, stop the clock and print the time\n",
    "print(\"It's the main process again!\")\n",
    "print(\"The time it took to execute is\", time.time() - start_time, \"seconds\")\n",
    "print(\"Processes 1-4 have finished executing.\")"
   ]
  },
  {
   "cell_type": "markdown",
   "id": "ea71e676-c461-4604-abd4-13e206f263e5",
   "metadata": {},
   "source": [
    "<h3> Multiprocessing can greatly speed up the execution of the code as long as multiple CPUs are available</h3>"
   ]
  }
 ],
 "metadata": {
  "kernelspec": {
   "display_name": "Python 3 (ipykernel)",
   "language": "python",
   "name": "python3"
  },
  "language_info": {
   "codemirror_mode": {
    "name": "ipython",
    "version": 3
   },
   "file_extension": ".py",
   "mimetype": "text/x-python",
   "name": "python",
   "nbconvert_exporter": "python",
   "pygments_lexer": "ipython3",
   "version": "3.11.9"
  }
 },
 "nbformat": 4,
 "nbformat_minor": 5
}
