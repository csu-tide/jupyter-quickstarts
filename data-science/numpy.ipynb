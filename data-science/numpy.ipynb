{
 "cells": [
  {
   "cell_type": "markdown",
   "id": "8a4c5714-9827-482e-8925-99db4f6b1112",
   "metadata": {},
   "source": [
    "## Numpy is also called as Numerical Python used to perform various numerical and scientific computing in Python. Let us have a look at various mathematical functions, that are essential for data science, machine learning, engineering, and more."
   ]
  },
  {
   "cell_type": "markdown",
   "id": "5ec13096-1183-41d5-a63f-e8a8b4201271",
   "metadata": {},
   "source": [
    "Importing Numpy Package"
   ]
  },
  {
   "cell_type": "code",
   "execution_count": 4,
   "id": "ba68a7da-0a79-44bb-b0fd-39ece169630e",
   "metadata": {},
   "outputs": [],
   "source": [
    "import numpy as np"
   ]
  },
  {
   "cell_type": "markdown",
   "id": "0b349a7b-bfde-4439-909a-8e457a6bb5ed",
   "metadata": {},
   "source": [
    "Numpy is used to create various array operations like  creating an NumPy array from a Python list or tuple."
   ]
  },
  {
   "cell_type": "code",
   "execution_count": 6,
   "id": "b9ae4c2b-5602-4c13-afde-6414b2dad3ae",
   "metadata": {},
   "outputs": [
    {
     "name": "stdout",
     "output_type": "stream",
     "text": [
      "[1 2 3 4 5]\n",
      "[[1 2 3]\n",
      " [4 5 6]]\n"
     ]
    }
   ],
   "source": [
    "a = np.array([1, 2, 3, 4, 5])  # 1D array\n",
    "b = np.array([(1, 2, 3), (4, 5, 6)])  # 2D array\n",
    "print(a)\n",
    "print(b)"
   ]
  },
  {
   "cell_type": "markdown",
   "id": "fffc5591-da5f-4350-a150-141253119315",
   "metadata": {},
   "source": [
    "Numpy can be used to initialize arrays with specific values like zeros and ones or any other matrices for linear algebra operations. "
   ]
  },
  {
   "cell_type": "code",
   "execution_count": 10,
   "id": "d8f00b35-95e9-48db-94e4-5e73fecaa3c2",
   "metadata": {},
   "outputs": [
    {
     "name": "stdout",
     "output_type": "stream",
     "text": [
      "[[0. 0. 0.]\n",
      " [0. 0. 0.]]\n"
     ]
    }
   ],
   "source": [
    "zero_matrix = np.zeros((2, 3))  \n",
    "print(zero_matrix)"
   ]
  },
  {
   "cell_type": "code",
   "execution_count": 16,
   "id": "ab75650b-56d6-41e8-b4a6-d51b65a0c9bd",
   "metadata": {},
   "outputs": [
    {
     "name": "stdout",
     "output_type": "stream",
     "text": [
      "[[1 1]\n",
      " [1 1]]\n"
     ]
    }
   ],
   "source": [
    "ones_matrix = np.ones((2, 2), dtype=int)\n",
    "print (ones_matrix)"
   ]
  },
  {
   "cell_type": "markdown",
   "id": "b77c0add-fb65-4a3f-bfbe-7fc1ac841758",
   "metadata": {},
   "source": [
    "We can create sequences of numbers using Numpy for numerical computing."
   ]
  },
  {
   "cell_type": "code",
   "execution_count": 23,
   "id": "ed094db0-6f2d-4ca8-9ba2-75885ce63467",
   "metadata": {},
   "outputs": [
    {
     "name": "stdout",
     "output_type": "stream",
     "text": [
      "[1 3 5 7 9]\n"
     ]
    }
   ],
   "source": [
    "# Syntax : np.arange(start, stop, step size)\n",
    "\n",
    "range = np.arange(1, 11, 2) \n",
    "print (range)\n"
   ]
  },
  {
   "cell_type": "markdown",
   "id": "90de5d76-ea50-4f15-8685-e39e44dfa2e7",
   "metadata": {},
   "source": [
    "NumPy's product function is used to perform Matrix multiplication for 2D arrays."
   ]
  },
  {
   "cell_type": "code",
   "execution_count": 2,
   "id": "bc2b40b0-9dd8-4999-9d61-cefde29b7253",
   "metadata": {},
   "outputs": [
    {
     "ename": "NameError",
     "evalue": "name 'np' is not defined",
     "output_type": "error",
     "traceback": [
      "\u001b[0;31m---------------------------------------------------------------------------\u001b[0m",
      "\u001b[0;31mNameError\u001b[0m                                 Traceback (most recent call last)",
      "Cell \u001b[0;32mIn[2], line 1\u001b[0m\n\u001b[0;32m----> 1\u001b[0m c \u001b[38;5;241m=\u001b[39m np\u001b[38;5;241m.\u001b[39marray([[\u001b[38;5;241m1\u001b[39m, \u001b[38;5;241m2\u001b[39m], [\u001b[38;5;241m3\u001b[39m, \u001b[38;5;241m4\u001b[39m]])\n\u001b[1;32m      2\u001b[0m d \u001b[38;5;241m=\u001b[39m np\u001b[38;5;241m.\u001b[39marray([[\u001b[38;5;241m5\u001b[39m, \u001b[38;5;241m6\u001b[39m], [\u001b[38;5;241m7\u001b[39m, \u001b[38;5;241m8\u001b[39m]])\n\u001b[1;32m      3\u001b[0m dot_product \u001b[38;5;241m=\u001b[39m np\u001b[38;5;241m.\u001b[39mdot(c, d)\n",
      "\u001b[0;31mNameError\u001b[0m: name 'np' is not defined"
     ]
    }
   ],
   "source": [
    "c = np.array([[1, 2], [3, 4]])\n",
    "d = np.array([[5, 6], [7, 8]])\n",
    "dot_product = np.dot(c, d)\n",
    "print(dot_product)"
   ]
  },
  {
   "cell_type": "markdown",
   "id": "77b49954-42d9-4e82-a397-e20df82dc8c0",
   "metadata": {},
   "source": [
    "NumPy's built-in statistical functions allow for easy computation of key statistical measures, facilitating robust data analysis and interpretation."
   ]
  },
  {
   "cell_type": "code",
   "execution_count": 28,
   "id": "52dc6d51-62c9-4dfb-bfe3-aa864e1a67ea",
   "metadata": {},
   "outputs": [
    {
     "name": "stdout",
     "output_type": "stream",
     "text": [
      "3.0\n",
      "3.0\n",
      "1.4142135623730951\n"
     ]
    }
   ],
   "source": [
    "stats = np.array([1, 2, 3, 4, 5])\n",
    "mean_val = np.mean(stats)\n",
    "median_val = np.median(stats)\n",
    "std_val = np.std(stats)\n",
    "print(mean_val)\n",
    "print(median_val)\n",
    "print(std_val)"
   ]
  },
  {
   "cell_type": "markdown",
   "id": "dd084aa0-8a0f-4cdf-a51e-0f55e1ba2895",
   "metadata": {},
   "source": [
    "NumPy’s random submodule offers a wide range of functions to generate random numbers from various distributions, which is used to create stochastic models and performing Monte Carlo simulations."
   ]
  },
  {
   "cell_type": "code",
   "execution_count": 31,
   "id": "c339d3a9-e972-4d62-a554-449c9d6ec0c1",
   "metadata": {},
   "outputs": [
    {
     "name": "stdout",
     "output_type": "stream",
     "text": [
      "[[0.82974812 0.92313289 0.1281779 ]\n",
      " [0.69377248 0.79893395 0.07256955]]\n"
     ]
    }
   ],
   "source": [
    "n = np.random.rand(2, 3)\n",
    "print(n)"
   ]
  },
  {
   "cell_type": "markdown",
   "id": "cc9814a3-cb11-4cd5-b152-1b317418bac5",
   "metadata": {},
   "source": [
    "Numpy's help guide"
   ]
  },
  {
   "cell_type": "code",
   "execution_count": 34,
   "id": "2a23f840-0718-480e-98fc-057026117f8c",
   "metadata": {},
   "outputs": [
    {
     "name": "stdout",
     "output_type": "stream",
     "text": [
      "Data-type of the array's elements.\n",
      "\n",
      ".. warning::\n",
      "\n",
      "    Setting ``arr.dtype`` is discouraged and may be deprecated in the\n",
      "    future.  Setting will replace the ``dtype`` without modifying the\n",
      "    memory (see also `ndarray.view` and `ndarray.astype`).\n",
      "\n",
      "Parameters\n",
      "----------\n",
      "None\n",
      "\n",
      "Returns\n",
      "-------\n",
      "d : numpy dtype object\n",
      "\n",
      "See Also\n",
      "--------\n",
      "ndarray.astype : Cast the values contained in the array to a new data-type.\n",
      "ndarray.view : Create a view of the same data but a different data-type.\n",
      "numpy.dtype\n",
      "\n",
      "Examples\n",
      "--------\n",
      ">>> x\n",
      "array([[0, 1],\n",
      "       [2, 3]])\n",
      ">>> x.dtype\n",
      "dtype('int32')\n",
      ">>> type(x.dtype)\n",
      "<type 'numpy.dtype'>\n"
     ]
    }
   ],
   "source": [
    " np.info(np.ndarray.dtype)"
   ]
  },
  {
   "cell_type": "code",
   "execution_count": null,
   "id": "c256d9e1-da61-4a54-96c3-b967cb633047",
   "metadata": {},
   "outputs": [],
   "source": []
  }
 ],
 "metadata": {
  "kernelspec": {
   "display_name": "Python 3 (ipykernel)",
   "language": "python",
   "name": "python3"
  },
  "language_info": {
   "codemirror_mode": {
    "name": "ipython",
    "version": 3
   },
   "file_extension": ".py",
   "mimetype": "text/x-python",
   "name": "python",
   "nbconvert_exporter": "python",
   "pygments_lexer": "ipython3",
   "version": "3.11.7"
  }
 },
 "nbformat": 4,
 "nbformat_minor": 5
}
